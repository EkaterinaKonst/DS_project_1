{
 "cells": [
  {
   "cell_type": "code",
   "execution_count": 2,
   "id": "6117698b",
   "metadata": {},
   "outputs": [],
   "source": [
    "import pandas as pd"
   ]
  },
  {
   "cell_type": "code",
   "execution_count": 4,
   "id": "f7737c34",
   "metadata": {},
   "outputs": [
    {
     "data": {
      "text/html": [
       "<div>\n",
       "<style scoped>\n",
       "    .dataframe tbody tr th:only-of-type {\n",
       "        vertical-align: middle;\n",
       "    }\n",
       "\n",
       "    .dataframe tbody tr th {\n",
       "        vertical-align: top;\n",
       "    }\n",
       "\n",
       "    .dataframe thead th {\n",
       "        text-align: right;\n",
       "    }\n",
       "</style>\n",
       "<table border=\"1\" class=\"dataframe\">\n",
       "  <thead>\n",
       "    <tr style=\"text-align: right;\">\n",
       "      <th></th>\n",
       "      <th>id</th>\n",
       "      <th>premise</th>\n",
       "      <th>hypothesis</th>\n",
       "      <th>lang_abv</th>\n",
       "      <th>language</th>\n",
       "      <th>label</th>\n",
       "    </tr>\n",
       "  </thead>\n",
       "  <tbody>\n",
       "    <tr>\n",
       "      <th>0</th>\n",
       "      <td>5130fd2cb5</td>\n",
       "      <td>and these comments were considered in formulat...</td>\n",
       "      <td>The rules developed in the interim were put to...</td>\n",
       "      <td>en</td>\n",
       "      <td>English</td>\n",
       "      <td>0</td>\n",
       "    </tr>\n",
       "    <tr>\n",
       "      <th>1</th>\n",
       "      <td>5b72532a0b</td>\n",
       "      <td>These are issues that we wrestle with in pract...</td>\n",
       "      <td>Practice groups are not permitted to work on t...</td>\n",
       "      <td>en</td>\n",
       "      <td>English</td>\n",
       "      <td>2</td>\n",
       "    </tr>\n",
       "    <tr>\n",
       "      <th>2</th>\n",
       "      <td>3931fbe82a</td>\n",
       "      <td>Des petites choses comme celles-là font une di...</td>\n",
       "      <td>J'essayais d'accomplir quelque chose.</td>\n",
       "      <td>fr</td>\n",
       "      <td>French</td>\n",
       "      <td>0</td>\n",
       "    </tr>\n",
       "    <tr>\n",
       "      <th>3</th>\n",
       "      <td>5622f0c60b</td>\n",
       "      <td>you know they can't really defend themselves l...</td>\n",
       "      <td>They can't defend themselves because of their ...</td>\n",
       "      <td>en</td>\n",
       "      <td>English</td>\n",
       "      <td>0</td>\n",
       "    </tr>\n",
       "    <tr>\n",
       "      <th>4</th>\n",
       "      <td>86aaa48b45</td>\n",
       "      <td>ในการเล่นบทบาทสมมุติก็เช่นกัน โอกาสที่จะได้แสด...</td>\n",
       "      <td>เด็กสามารถเห็นได้ว่าชาติพันธุ์แตกต่างกันอย่างไร</td>\n",
       "      <td>th</td>\n",
       "      <td>Thai</td>\n",
       "      <td>1</td>\n",
       "    </tr>\n",
       "    <tr>\n",
       "      <th>5</th>\n",
       "      <td>ed7d6a1e62</td>\n",
       "      <td>Bir çiftlikte birisinin, ağıla kapatılmış bu ö...</td>\n",
       "      <td>Çiftlikte insanlar farklı terimler kullanırlar.</td>\n",
       "      <td>tr</td>\n",
       "      <td>Turkish</td>\n",
       "      <td>0</td>\n",
       "    </tr>\n",
       "    <tr>\n",
       "      <th>6</th>\n",
       "      <td>5a0f4908a0</td>\n",
       "      <td>ریاست ہائے متحدہ امریکہ واپس آنے پر، ہج ایف بی...</td>\n",
       "      <td>ہیگ کی تفتیش ایف بی آئی اہلکاروں  کی طرف سے کی...</td>\n",
       "      <td>ur</td>\n",
       "      <td>Urdu</td>\n",
       "      <td>0</td>\n",
       "    </tr>\n",
       "    <tr>\n",
       "      <th>7</th>\n",
       "      <td>fdcd1bd867</td>\n",
       "      <td>From Cockpit Country to St. Ann's Bay</td>\n",
       "      <td>From St. Ann's Bay to Cockpit Country.</td>\n",
       "      <td>en</td>\n",
       "      <td>English</td>\n",
       "      <td>2</td>\n",
       "    </tr>\n",
       "    <tr>\n",
       "      <th>8</th>\n",
       "      <td>7cfb3d272c</td>\n",
       "      <td>Look, it's your skin, but you're going to be i...</td>\n",
       "      <td>The boss will fire you if he sees you slacking...</td>\n",
       "      <td>en</td>\n",
       "      <td>English</td>\n",
       "      <td>1</td>\n",
       "    </tr>\n",
       "    <tr>\n",
       "      <th>9</th>\n",
       "      <td>8c10229663</td>\n",
       "      <td>Через каждые сто градусов пятна краски меняют ...</td>\n",
       "      <td>Краска изменяется в соответствии с цветом.</td>\n",
       "      <td>ru</td>\n",
       "      <td>Russian</td>\n",
       "      <td>0</td>\n",
       "    </tr>\n",
       "  </tbody>\n",
       "</table>\n",
       "</div>"
      ],
      "text/plain": [
       "           id                                            premise  \\\n",
       "0  5130fd2cb5  and these comments were considered in formulat...   \n",
       "1  5b72532a0b  These are issues that we wrestle with in pract...   \n",
       "2  3931fbe82a  Des petites choses comme celles-là font une di...   \n",
       "3  5622f0c60b  you know they can't really defend themselves l...   \n",
       "4  86aaa48b45  ในการเล่นบทบาทสมมุติก็เช่นกัน โอกาสที่จะได้แสด...   \n",
       "5  ed7d6a1e62  Bir çiftlikte birisinin, ağıla kapatılmış bu ö...   \n",
       "6  5a0f4908a0  ریاست ہائے متحدہ امریکہ واپس آنے پر، ہج ایف بی...   \n",
       "7  fdcd1bd867              From Cockpit Country to St. Ann's Bay   \n",
       "8  7cfb3d272c  Look, it's your skin, but you're going to be i...   \n",
       "9  8c10229663  Через каждые сто градусов пятна краски меняют ...   \n",
       "\n",
       "                                          hypothesis lang_abv language  label  \n",
       "0  The rules developed in the interim were put to...       en  English      0  \n",
       "1  Practice groups are not permitted to work on t...       en  English      2  \n",
       "2              J'essayais d'accomplir quelque chose.       fr   French      0  \n",
       "3  They can't defend themselves because of their ...       en  English      0  \n",
       "4    เด็กสามารถเห็นได้ว่าชาติพันธุ์แตกต่างกันอย่างไร       th     Thai      1  \n",
       "5    Çiftlikte insanlar farklı terimler kullanırlar.       tr  Turkish      0  \n",
       "6  ہیگ کی تفتیش ایف بی آئی اہلکاروں  کی طرف سے کی...       ur     Urdu      0  \n",
       "7             From St. Ann's Bay to Cockpit Country.       en  English      2  \n",
       "8  The boss will fire you if he sees you slacking...       en  English      1  \n",
       "9         Краска изменяется в соответствии с цветом.       ru  Russian      0  "
      ]
     },
     "execution_count": 4,
     "metadata": {},
     "output_type": "execute_result"
    }
   ],
   "source": [
    "f = r'C:\\Users\\gekat\\train.csv'\n",
    "df = pd.read_csv(f)\n",
    "df.head(10)"
   ]
  },
  {
   "cell_type": "code",
   "execution_count": 41,
   "id": "4bba21ad",
   "metadata": {},
   "outputs": [
    {
     "name": "stdout",
     "output_type": "stream",
     "text": [
      "<class 'pandas.core.frame.DataFrame'>\n",
      "RangeIndex: 12120 entries, 0 to 12119\n",
      "Data columns (total 6 columns):\n",
      " #   Column      Non-Null Count  Dtype \n",
      "---  ------      --------------  ----- \n",
      " 0   id          12120 non-null  object\n",
      " 1   premise     12120 non-null  object\n",
      " 2   hypothesis  12120 non-null  object\n",
      " 3   lang_abv    12120 non-null  object\n",
      " 4   language    12120 non-null  object\n",
      " 5   label       12120 non-null  int64 \n",
      "dtypes: int64(1), object(5)\n",
      "memory usage: 568.2+ KB\n"
     ]
    }
   ],
   "source": [
    "df.info()"
   ]
  },
  {
   "cell_type": "code",
   "execution_count": 44,
   "id": "8e5f97fd",
   "metadata": {},
   "outputs": [
    {
     "data": {
      "text/plain": [
       "en    6870\n",
       "zh     411\n",
       "ar     401\n",
       "fr     390\n",
       "sw     385\n",
       "ur     381\n",
       "vi     379\n",
       "ru     376\n",
       "hi     374\n",
       "el     372\n",
       "th     371\n",
       "es     366\n",
       "tr     351\n",
       "de     351\n",
       "bg     342\n",
       "Name: lang_abv, dtype: int64"
      ]
     },
     "execution_count": 44,
     "metadata": {},
     "output_type": "execute_result"
    }
   ],
   "source": [
    "df['lang_abv'].value_counts()"
   ]
  },
  {
   "cell_type": "code",
   "execution_count": 57,
   "id": "0b60719c",
   "metadata": {},
   "outputs": [
    {
     "data": {
      "image/png": "[encoded data removed]",
      "text/plain": [
       "<Figure size 432x288 with 1 Axes>"
      ]
     },
     "metadata": {
      "needs_background": "light"
     },
     "output_type": "display_data"
    }
   ],
   "source": [
    "from matplotlib import pyplot as plt                                                                     \n",
    "df['lang_abv'].hist(bins = 30)                                                                          \n",
    "plt.xlabel('Язык'), plt.ylabel('Частота появления'), plt.title('Частота высказываний на языке') \n",
    "plt.show()   "
   ]
  },
  {
   "cell_type": "code",
   "execution_count": 58,
   "id": "236f11fe",
   "metadata": {},
   "outputs": [
    {
     "data": {
      "text/plain": [
       "(808.0, 1677.1018369283875, 376.0, 376.0)"
      ]
     },
     "execution_count": 58,
     "metadata": {},
     "output_type": "execute_result"
    }
   ],
   "source": [
    "lang_disperse = df['lang_abv'].value_counts()\n",
    "lang_disperse.mean(), lang_disperse.std(), lang_disperse.median(), lang_disperse.quantile(0.50)"
   ]
  },
  {
   "cell_type": "code",
   "execution_count": 5,
   "id": "303a0d8f",
   "metadata": {},
   "outputs": [
    {
     "data": {
      "text/html": [
       "<div>\n",
       "<style scoped>\n",
       "    .dataframe tbody tr th:only-of-type {\n",
       "        vertical-align: middle;\n",
       "    }\n",
       "\n",
       "    .dataframe tbody tr th {\n",
       "        vertical-align: top;\n",
       "    }\n",
       "\n",
       "    .dataframe thead th {\n",
       "        text-align: right;\n",
       "    }\n",
       "</style>\n",
       "<table border=\"1\" class=\"dataframe\">\n",
       "  <thead>\n",
       "    <tr style=\"text-align: right;\">\n",
       "      <th></th>\n",
       "      <th>id</th>\n",
       "      <th>premise</th>\n",
       "      <th>hypothesis</th>\n",
       "      <th>lang_abv</th>\n",
       "      <th>language</th>\n",
       "      <th>label</th>\n",
       "    </tr>\n",
       "  </thead>\n",
       "  <tbody>\n",
       "    <tr>\n",
       "      <th>6596</th>\n",
       "      <td>4c6102fe42</td>\n",
       "      <td>.. لماذا لديهم شعور منخفض بالقيمة الذاتية ليقد...</td>\n",
       "      <td>بعض أصدقائهم قد سرقوا العلكة.</td>\n",
       "      <td>ar</td>\n",
       "      <td>Arabic</td>\n",
       "      <td>1</td>\n",
       "    </tr>\n",
       "    <tr>\n",
       "      <th>6665</th>\n",
       "      <td>ef42c2b5a1</td>\n",
       "      <td>في عام 1863، كانت الأمة لا تزال ترغب في إنشاء ...</td>\n",
       "      <td>لم يكن هناك اى شيئا مختلف ف  ١٨٦٣ لأنه لم يكن ...</td>\n",
       "      <td>ar</td>\n",
       "      <td>Arabic</td>\n",
       "      <td>2</td>\n",
       "    </tr>\n",
       "    <tr>\n",
       "      <th>3955</th>\n",
       "      <td>b250fe818c</td>\n",
       "      <td>.. كتاب العالم الأكثر تفكيرًا وتحفيزًا.</td>\n",
       "      <td>يستطيع كتاب الطبيعة تشجيع الناس على إعادة تدوي...</td>\n",
       "      <td>ar</td>\n",
       "      <td>Arabic</td>\n",
       "      <td>1</td>\n",
       "    </tr>\n",
       "  </tbody>\n",
       "</table>\n",
       "</div>"
      ],
      "text/plain": [
       "              id                                            premise  \\\n",
       "6596  4c6102fe42  .. لماذا لديهم شعور منخفض بالقيمة الذاتية ليقد...   \n",
       "6665  ef42c2b5a1  في عام 1863، كانت الأمة لا تزال ترغب في إنشاء ...   \n",
       "3955  b250fe818c            .. كتاب العالم الأكثر تفكيرًا وتحفيزًا.   \n",
       "\n",
       "                                             hypothesis lang_abv language  \\\n",
       "6596                      بعض أصدقائهم قد سرقوا العلكة.       ar   Arabic   \n",
       "6665  لم يكن هناك اى شيئا مختلف ف  ١٨٦٣ لأنه لم يكن ...       ar   Arabic   \n",
       "3955  يستطيع كتاب الطبيعة تشجيع الناس على إعادة تدوي...       ar   Arabic   \n",
       "\n",
       "      label  \n",
       "6596      1  \n",
       "6665      2  \n",
       "3955      1  "
      ]
     },
     "execution_count": 5,
     "metadata": {},
     "output_type": "execute_result"
    }
   ],
   "source": [
    "df.sort_values(by = ['language'], ascending = True).head(3)"
   ]
  }
 ],
 "metadata": {
  "kernelspec": {
   "display_name": "Python 3 (ipykernel)",
   "language": "python",
   "name": "python3"
  },
  "language_info": {
   "codemirror_mode": {
    "name": "ipython",
    "version": 3
   },
   "file_extension": ".py",
   "mimetype": "text/x-python",
   "name": "python",
   "nbconvert_exporter": "python",
   "pygments_lexer": "ipython3",
   "version": "3.9.7"
  }
 },
 "nbformat": 4,
 "nbformat_minor": 5
}
